{
  "nbformat": 4,
  "nbformat_minor": 0,
  "metadata": {
    "colab": {
      "provenance": []
    },
    "kernelspec": {
      "name": "python3",
      "display_name": "Python 3"
    },
    "language_info": {
      "name": "python"
    }
  },
  "cells": [
    {
      "cell_type": "code",
      "source": [
        "!pip install playwright\n",
        "!playwright install"
      ],
      "metadata": {
        "colab": {
          "base_uri": "https://localhost:8080/"
        },
        "id": "WLcAQT9DjYU1",
        "outputId": "193aad10-8e5d-4faf-e983-eb7f03ad66d3"
      },
      "execution_count": 1,
      "outputs": [
        {
          "output_type": "stream",
          "name": "stdout",
          "text": [
            "Collecting playwright\n",
            "  Downloading playwright-1.52.0-py3-none-manylinux1_x86_64.whl.metadata (3.5 kB)\n",
            "Collecting pyee<14,>=13 (from playwright)\n",
            "  Downloading pyee-13.0.0-py3-none-any.whl.metadata (2.9 kB)\n",
            "Requirement already satisfied: greenlet<4.0.0,>=3.1.1 in /usr/local/lib/python3.11/dist-packages (from playwright) (3.2.1)\n",
            "Requirement already satisfied: typing-extensions in /usr/local/lib/python3.11/dist-packages (from pyee<14,>=13->playwright) (4.13.2)\n",
            "Downloading playwright-1.52.0-py3-none-manylinux1_x86_64.whl (45.1 MB)\n",
            "\u001b[2K   \u001b[90m━━━━━━━━━━━━━━━━━━━━━━━━━━━━━━━━━━━━━━━━\u001b[0m \u001b[32m45.1/45.1 MB\u001b[0m \u001b[31m9.8 MB/s\u001b[0m eta \u001b[36m0:00:00\u001b[0m\n",
            "\u001b[?25hDownloading pyee-13.0.0-py3-none-any.whl (15 kB)\n",
            "Installing collected packages: pyee, playwright\n",
            "Successfully installed playwright-1.52.0 pyee-13.0.0\n",
            "Downloading Chromium 136.0.7103.25 (playwright build v1169)\u001b[2m from https://cdn.playwright.dev/dbazure/download/playwright/builds/chromium/1169/chromium-linux.zip\u001b[22m\n",
            "\u001b[1G167.7 MiB [] 0% 0.0s\u001b[0K\u001b[1G167.7 MiB [] 0% 43.3s\u001b[0K\u001b[1G167.7 MiB [] 0% 32.3s\u001b[0K\u001b[1G167.7 MiB [] 0% 23.9s\u001b[0K\u001b[1G167.7 MiB [] 0% 13.4s\u001b[0K\u001b[1G167.7 MiB [] 0% 11.8s\u001b[0K\u001b[1G167.7 MiB [] 1% 9.3s\u001b[0K\u001b[1G167.7 MiB [] 1% 7.5s\u001b[0K\u001b[1G167.7 MiB [] 1% 6.9s\u001b[0K\u001b[1G167.7 MiB [] 2% 6.0s\u001b[0K\u001b[1G167.7 MiB [] 2% 5.6s\u001b[0K\u001b[1G167.7 MiB [] 3% 5.1s\u001b[0K\u001b[1G167.7 MiB [] 3% 4.9s\u001b[0K\u001b[1G167.7 MiB [] 4% 4.6s\u001b[0K\u001b[1G167.7 MiB [] 4% 4.4s\u001b[0K\u001b[1G167.7 MiB [] 5% 4.3s\u001b[0K\u001b[1G167.7 MiB [] 5% 4.2s\u001b[0K\u001b[1G167.7 MiB [] 6% 4.5s\u001b[0K\u001b[1G167.7 MiB [] 6% 4.6s\u001b[0K\u001b[1G167.7 MiB [] 6% 4.5s\u001b[0K\u001b[1G167.7 MiB [] 7% 4.4s\u001b[0K\u001b[1G167.7 MiB [] 8% 4.4s\u001b[0K\u001b[1G167.7 MiB [] 8% 4.3s\u001b[0K\u001b[1G167.7 MiB [] 9% 4.3s\u001b[0K\u001b[1G167.7 MiB [] 9% 4.4s\u001b[0K\u001b[1G167.7 MiB [] 10% 4.3s\u001b[0K\u001b[1G167.7 MiB [] 10% 4.2s\u001b[0K\u001b[1G167.7 MiB [] 11% 4.2s\u001b[0K\u001b[1G167.7 MiB [] 11% 4.1s\u001b[0K\u001b[1G167.7 MiB [] 12% 4.0s\u001b[0K\u001b[1G167.7 MiB [] 13% 3.9s\u001b[0K\u001b[1G167.7 MiB [] 14% 3.8s\u001b[0K\u001b[1G167.7 MiB [] 15% 3.7s\u001b[0K\u001b[1G167.7 MiB [] 16% 3.6s\u001b[0K\u001b[1G167.7 MiB [] 16% 3.5s\u001b[0K\u001b[1G167.7 MiB [] 17% 3.4s\u001b[0K\u001b[1G167.7 MiB [] 18% 3.3s\u001b[0K\u001b[1G167.7 MiB [] 19% 3.1s\u001b[0K\u001b[1G167.7 MiB [] 20% 3.1s\u001b[0K\u001b[1G167.7 MiB [] 21% 3.0s\u001b[0K\u001b[1G167.7 MiB [] 21% 2.9s\u001b[0K\u001b[1G167.7 MiB [] 22% 2.9s\u001b[0K\u001b[1G167.7 MiB [] 23% 2.8s\u001b[0K\u001b[1G167.7 MiB [] 24% 2.7s\u001b[0K\u001b[1G167.7 MiB [] 25% 2.6s\u001b[0K\u001b[1G167.7 MiB [] 26% 2.6s\u001b[0K\u001b[1G167.7 MiB [] 27% 2.5s\u001b[0K\u001b[1G167.7 MiB [] 27% 2.6s\u001b[0K\u001b[1G167.7 MiB [] 28% 2.6s\u001b[0K\u001b[1G167.7 MiB [] 29% 2.5s\u001b[0K\u001b[1G167.7 MiB [] 30% 2.5s\u001b[0K\u001b[1G167.7 MiB [] 31% 2.4s\u001b[0K\u001b[1G167.7 MiB [] 31% 2.3s\u001b[0K\u001b[1G167.7 MiB [] 32% 2.3s\u001b[0K\u001b[1G167.7 MiB [] 33% 2.3s\u001b[0K\u001b[1G167.7 MiB [] 34% 2.3s\u001b[0K\u001b[1G167.7 MiB [] 35% 2.3s\u001b[0K\u001b[1G167.7 MiB [] 35% 2.2s\u001b[0K\u001b[1G167.7 MiB [] 36% 2.2s\u001b[0K\u001b[1G167.7 MiB [] 37% 2.2s\u001b[0K\u001b[1G167.7 MiB [] 37% 2.1s\u001b[0K\u001b[1G167.7 MiB [] 38% 2.1s\u001b[0K\u001b[1G167.7 MiB [] 39% 2.0s\u001b[0K\u001b[1G167.7 MiB [] 40% 2.0s\u001b[0K\u001b[1G167.7 MiB [] 41% 1.9s\u001b[0K\u001b[1G167.7 MiB [] 42% 1.9s\u001b[0K\u001b[1G167.7 MiB [] 43% 1.8s\u001b[0K\u001b[1G167.7 MiB [] 44% 1.8s\u001b[0K\u001b[1G167.7 MiB [] 45% 1.8s\u001b[0K\u001b[1G167.7 MiB [] 46% 1.7s\u001b[0K\u001b[1G167.7 MiB [] 47% 1.7s\u001b[0K\u001b[1G167.7 MiB [] 48% 1.6s\u001b[0K\u001b[1G167.7 MiB [] 49% 1.6s\u001b[0K\u001b[1G167.7 MiB [] 50% 1.6s\u001b[0K\u001b[1G167.7 MiB [] 51% 1.5s\u001b[0K\u001b[1G167.7 MiB [] 52% 1.5s\u001b[0K\u001b[1G167.7 MiB [] 53% 1.5s\u001b[0K\u001b[1G167.7 MiB [] 53% 1.4s\u001b[0K\u001b[1G167.7 MiB [] 54% 1.4s\u001b[0K\u001b[1G167.7 MiB [] 55% 1.4s\u001b[0K\u001b[1G167.7 MiB [] 56% 1.3s\u001b[0K\u001b[1G167.7 MiB [] 57% 1.3s\u001b[0K\u001b[1G167.7 MiB [] 58% 1.3s\u001b[0K\u001b[1G167.7 MiB [] 59% 1.2s\u001b[0K\u001b[1G167.7 MiB [] 60% 1.2s\u001b[0K\u001b[1G167.7 MiB [] 61% 1.1s\u001b[0K\u001b[1G167.7 MiB [] 62% 1.1s\u001b[0K\u001b[1G167.7 MiB [] 63% 1.1s\u001b[0K\u001b[1G167.7 MiB [] 64% 1.0s\u001b[0K\u001b[1G167.7 MiB [] 65% 1.0s\u001b[0K\u001b[1G167.7 MiB [] 66% 1.0s\u001b[0K\u001b[1G167.7 MiB [] 67% 0.9s\u001b[0K\u001b[1G167.7 MiB [] 68% 0.9s\u001b[0K\u001b[1G167.7 MiB [] 69% 0.9s\u001b[0K\u001b[1G167.7 MiB [] 70% 0.9s\u001b[0K\u001b[1G167.7 MiB [] 70% 0.8s\u001b[0K\u001b[1G167.7 MiB [] 71% 0.8s\u001b[0K\u001b[1G167.7 MiB [] 72% 0.8s\u001b[0K\u001b[1G167.7 MiB [] 73% 0.8s\u001b[0K\u001b[1G167.7 MiB [] 73% 0.7s\u001b[0K\u001b[1G167.7 MiB [] 74% 0.7s\u001b[0K\u001b[1G167.7 MiB [] 75% 0.7s\u001b[0K\u001b[1G167.7 MiB [] 76% 0.7s\u001b[0K\u001b[1G167.7 MiB [] 77% 0.6s\u001b[0K\u001b[1G167.7 MiB [] 78% 0.6s\u001b[0K\u001b[1G167.7 MiB [] 79% 0.6s\u001b[0K\u001b[1G167.7 MiB [] 80% 0.5s\u001b[0K\u001b[1G167.7 MiB [] 81% 0.5s\u001b[0K\u001b[1G167.7 MiB [] 82% 0.5s\u001b[0K\u001b[1G167.7 MiB [] 83% 0.5s\u001b[0K\u001b[1G167.7 MiB [] 84% 0.4s\u001b[0K\u001b[1G167.7 MiB [] 85% 0.4s\u001b[0K\u001b[1G167.7 MiB [] 86% 0.4s\u001b[0K\u001b[1G167.7 MiB [] 87% 0.3s\u001b[0K\u001b[1G167.7 MiB [] 88% 0.3s\u001b[0K\u001b[1G167.7 MiB [] 89% 0.3s\u001b[0K\u001b[1G167.7 MiB [] 90% 0.3s\u001b[0K\u001b[1G167.7 MiB [] 91% 0.2s\u001b[0K\u001b[1G167.7 MiB [] 92% 0.2s\u001b[0K\u001b[1G167.7 MiB [] 93% 0.2s\u001b[0K\u001b[1G167.7 MiB [] 94% 0.1s\u001b[0K\u001b[1G167.7 MiB [] 95% 0.1s\u001b[0K\u001b[1G167.7 MiB [] 96% 0.1s\u001b[0K\u001b[1G167.7 MiB [] 97% 0.1s\u001b[0K\u001b[1G167.7 MiB [] 98% 0.0s\u001b[0K\u001b[1G167.7 MiB [] 99% 0.0s\u001b[0K\u001b[1G167.7 MiB [] 100% 0.0s\u001b[0K\n",
            "Chromium 136.0.7103.25 (playwright build v1169) downloaded to /root/.cache/ms-playwright/chromium-1169\n",
            "Downloading Chromium Headless Shell 136.0.7103.25 (playwright build v1169)\u001b[2m from https://cdn.playwright.dev/dbazure/download/playwright/builds/chromium/1169/chromium-headless-shell-linux.zip\u001b[22m\n",
            "\u001b[1G101.4 MiB [] 0% 0.0s\u001b[0K\u001b[1G101.4 MiB [] 0% 31.1s\u001b[0K\u001b[1G101.4 MiB [] 0% 21.0s\u001b[0K\u001b[1G101.4 MiB [] 0% 14.5s\u001b[0K\u001b[1G101.4 MiB [] 0% 8.5s\u001b[0K\u001b[1G101.4 MiB [] 1% 5.7s\u001b[0K\u001b[1G101.4 MiB [] 2% 4.2s\u001b[0K\u001b[1G101.4 MiB [] 3% 3.7s\u001b[0K\u001b[1G101.4 MiB [] 4% 3.1s\u001b[0K\u001b[1G101.4 MiB [] 4% 3.0s\u001b[0K\u001b[1G101.4 MiB [] 5% 2.7s\u001b[0K\u001b[1G101.4 MiB [] 6% 2.6s\u001b[0K\u001b[1G101.4 MiB [] 7% 2.5s\u001b[0K\u001b[1G101.4 MiB [] 8% 2.5s\u001b[0K\u001b[1G101.4 MiB [] 8% 2.6s\u001b[0K\u001b[1G101.4 MiB [] 9% 2.5s\u001b[0K\u001b[1G101.4 MiB [] 10% 2.5s\u001b[0K\u001b[1G101.4 MiB [] 10% 2.8s\u001b[0K\u001b[1G101.4 MiB [] 11% 2.7s\u001b[0K\u001b[1G101.4 MiB [] 12% 2.6s\u001b[0K\u001b[1G101.4 MiB [] 13% 2.4s\u001b[0K\u001b[1G101.4 MiB [] 14% 2.3s\u001b[0K\u001b[1G101.4 MiB [] 15% 2.2s\u001b[0K\u001b[1G101.4 MiB [] 16% 2.2s\u001b[0K\u001b[1G101.4 MiB [] 17% 2.2s\u001b[0K\u001b[1G101.4 MiB [] 18% 2.1s\u001b[0K\u001b[1G101.4 MiB [] 19% 2.0s\u001b[0K\u001b[1G101.4 MiB [] 20% 1.9s\u001b[0K\u001b[1G101.4 MiB [] 21% 1.9s\u001b[0K\u001b[1G101.4 MiB [] 22% 1.8s\u001b[0K\u001b[1G101.4 MiB [] 23% 1.8s\u001b[0K\u001b[1G101.4 MiB [] 24% 1.8s\u001b[0K\u001b[1G101.4 MiB [] 25% 1.7s\u001b[0K\u001b[1G101.4 MiB [] 26% 1.7s\u001b[0K\u001b[1G101.4 MiB [] 27% 1.6s\u001b[0K\u001b[1G101.4 MiB [] 28% 1.6s\u001b[0K\u001b[1G101.4 MiB [] 30% 1.5s\u001b[0K\u001b[1G101.4 MiB [] 31% 1.4s\u001b[0K\u001b[1G101.4 MiB [] 32% 1.4s\u001b[0K\u001b[1G101.4 MiB [] 34% 1.3s\u001b[0K\u001b[1G101.4 MiB [] 35% 1.3s\u001b[0K\u001b[1G101.4 MiB [] 36% 1.3s\u001b[0K\u001b[1G101.4 MiB [] 37% 1.3s\u001b[0K\u001b[1G101.4 MiB [] 38% 1.2s\u001b[0K\u001b[1G101.4 MiB [] 38% 1.3s\u001b[0K\u001b[1G101.4 MiB [] 40% 1.2s\u001b[0K\u001b[1G101.4 MiB [] 41% 1.1s\u001b[0K\u001b[1G101.4 MiB [] 43% 1.1s\u001b[0K\u001b[1G101.4 MiB [] 44% 1.1s\u001b[0K\u001b[1G101.4 MiB [] 45% 1.1s\u001b[0K\u001b[1G101.4 MiB [] 46% 1.1s\u001b[0K\u001b[1G101.4 MiB [] 47% 1.0s\u001b[0K\u001b[1G101.4 MiB [] 49% 1.0s\u001b[0K\u001b[1G101.4 MiB [] 50% 0.9s\u001b[0K\u001b[1G101.4 MiB [] 52% 0.9s\u001b[0K\u001b[1G101.4 MiB [] 54% 0.9s\u001b[0K\u001b[1G101.4 MiB [] 54% 0.8s\u001b[0K\u001b[1G101.4 MiB [] 55% 0.8s\u001b[0K\u001b[1G101.4 MiB [] 56% 0.8s\u001b[0K\u001b[1G101.4 MiB [] 57% 0.8s\u001b[0K\u001b[1G101.4 MiB [] 58% 0.8s\u001b[0K\u001b[1G101.4 MiB [] 59% 0.8s\u001b[0K\u001b[1G101.4 MiB [] 60% 0.8s\u001b[0K\u001b[1G101.4 MiB [] 61% 0.7s\u001b[0K\u001b[1G101.4 MiB [] 63% 0.7s\u001b[0K\u001b[1G101.4 MiB [] 64% 0.7s\u001b[0K\u001b[1G101.4 MiB [] 65% 0.6s\u001b[0K\u001b[1G101.4 MiB [] 66% 0.6s\u001b[0K\u001b[1G101.4 MiB [] 67% 0.6s\u001b[0K\u001b[1G101.4 MiB [] 69% 0.6s\u001b[0K\u001b[1G101.4 MiB [] 71% 0.5s\u001b[0K\u001b[1G101.4 MiB [] 72% 0.5s\u001b[0K\u001b[1G101.4 MiB [] 73% 0.5s\u001b[0K\u001b[1G101.4 MiB [] 74% 0.5s\u001b[0K\u001b[1G101.4 MiB [] 75% 0.5s\u001b[0K\u001b[1G101.4 MiB [] 77% 0.4s\u001b[0K\u001b[1G101.4 MiB [] 78% 0.4s\u001b[0K\u001b[1G101.4 MiB [] 79% 0.4s\u001b[0K\u001b[1G101.4 MiB [] 80% 0.4s\u001b[0K\u001b[1G101.4 MiB [] 81% 0.3s\u001b[0K\u001b[1G101.4 MiB [] 83% 0.3s\u001b[0K\u001b[1G101.4 MiB [] 85% 0.3s\u001b[0K\u001b[1G101.4 MiB [] 86% 0.2s\u001b[0K\u001b[1G101.4 MiB [] 87% 0.2s\u001b[0K\u001b[1G101.4 MiB [] 89% 0.2s\u001b[0K\u001b[1G101.4 MiB [] 90% 0.2s\u001b[0K\u001b[1G101.4 MiB [] 91% 0.1s\u001b[0K\u001b[1G101.4 MiB [] 92% 0.1s\u001b[0K\u001b[1G101.4 MiB [] 94% 0.1s\u001b[0K\u001b[1G101.4 MiB [] 95% 0.1s\u001b[0K\u001b[1G101.4 MiB [] 96% 0.1s\u001b[0K\u001b[1G101.4 MiB [] 98% 0.0s\u001b[0K\u001b[1G101.4 MiB [] 100% 0.0s\u001b[0K\n",
            "Chromium Headless Shell 136.0.7103.25 (playwright build v1169) downloaded to /root/.cache/ms-playwright/chromium_headless_shell-1169\n",
            "Downloading Firefox 137.0 (playwright build v1482)\u001b[2m from https://cdn.playwright.dev/dbazure/download/playwright/builds/firefox/1482/firefox-ubuntu-22.04.zip\u001b[22m\n",
            "\u001b[1G91 MiB [] 0% 0.0s\u001b[0K\u001b[1G91 MiB [] 0% 26.2s\u001b[0K\u001b[1G91 MiB [] 0% 15.3s\u001b[0K\u001b[1G91 MiB [] 0% 9.4s\u001b[0K\u001b[1G91 MiB [] 1% 5.6s\u001b[0K\u001b[1G91 MiB [] 2% 3.8s\u001b[0K\u001b[1G91 MiB [] 3% 3.0s\u001b[0K\u001b[1G91 MiB [] 4% 2.6s\u001b[0K\u001b[1G91 MiB [] 5% 2.4s\u001b[0K\u001b[1G91 MiB [] 6% 2.2s\u001b[0K\u001b[1G91 MiB [] 7% 2.0s\u001b[0K\u001b[1G91 MiB [] 8% 1.8s\u001b[0K\u001b[1G91 MiB [] 10% 1.7s\u001b[0K\u001b[1G91 MiB [] 11% 1.9s\u001b[0K\u001b[1G91 MiB [] 12% 1.9s\u001b[0K\u001b[1G91 MiB [] 13% 1.8s\u001b[0K\u001b[1G91 MiB [] 15% 1.7s\u001b[0K\u001b[1G91 MiB [] 17% 1.6s\u001b[0K\u001b[1G91 MiB [] 18% 1.6s\u001b[0K\u001b[1G91 MiB [] 19% 1.6s\u001b[0K\u001b[1G91 MiB [] 21% 1.5s\u001b[0K\u001b[1G91 MiB [] 23% 1.4s\u001b[0K\u001b[1G91 MiB [] 24% 1.3s\u001b[0K\u001b[1G91 MiB [] 26% 1.3s\u001b[0K\u001b[1G91 MiB [] 27% 1.2s\u001b[0K\u001b[1G91 MiB [] 29% 1.2s\u001b[0K\u001b[1G91 MiB [] 30% 1.1s\u001b[0K\u001b[1G91 MiB [] 32% 1.1s\u001b[0K\u001b[1G91 MiB [] 34% 1.0s\u001b[0K\u001b[1G91 MiB [] 35% 1.0s\u001b[0K\u001b[1G91 MiB [] 37% 1.0s\u001b[0K\u001b[1G91 MiB [] 39% 0.9s\u001b[0K\u001b[1G91 MiB [] 40% 0.9s\u001b[0K\u001b[1G91 MiB [] 41% 0.9s\u001b[0K\u001b[1G91 MiB [] 42% 0.8s\u001b[0K\u001b[1G91 MiB [] 44% 0.8s\u001b[0K\u001b[1G91 MiB [] 46% 0.8s\u001b[0K\u001b[1G91 MiB [] 48% 0.7s\u001b[0K\u001b[1G91 MiB [] 50% 0.7s\u001b[0K\u001b[1G91 MiB [] 51% 0.7s\u001b[0K\u001b[1G91 MiB [] 52% 0.7s\u001b[0K\u001b[1G91 MiB [] 55% 0.6s\u001b[0K\u001b[1G91 MiB [] 57% 0.6s\u001b[0K\u001b[1G91 MiB [] 59% 0.6s\u001b[0K\u001b[1G91 MiB [] 61% 0.5s\u001b[0K\u001b[1G91 MiB [] 63% 0.5s\u001b[0K\u001b[1G91 MiB [] 64% 0.5s\u001b[0K\u001b[1G91 MiB [] 66% 0.5s\u001b[0K\u001b[1G91 MiB [] 68% 0.4s\u001b[0K\u001b[1G91 MiB [] 69% 0.4s\u001b[0K\u001b[1G91 MiB [] 71% 0.4s\u001b[0K\u001b[1G91 MiB [] 73% 0.4s\u001b[0K\u001b[1G91 MiB [] 74% 0.3s\u001b[0K\u001b[1G91 MiB [] 76% 0.3s\u001b[0K\u001b[1G91 MiB [] 78% 0.3s\u001b[0K\u001b[1G91 MiB [] 81% 0.2s\u001b[0K\u001b[1G91 MiB [] 82% 0.2s\u001b[0K\u001b[1G91 MiB [] 84% 0.2s\u001b[0K\u001b[1G91 MiB [] 86% 0.2s\u001b[0K\u001b[1G91 MiB [] 88% 0.1s\u001b[0K\u001b[1G91 MiB [] 90% 0.1s\u001b[0K\u001b[1G91 MiB [] 92% 0.1s\u001b[0K\u001b[1G91 MiB [] 94% 0.1s\u001b[0K\u001b[1G91 MiB [] 96% 0.0s\u001b[0K\u001b[1G91 MiB [] 98% 0.0s\u001b[0K\u001b[1G91 MiB [] 100% 0.0s\u001b[0K\n",
            "Firefox 137.0 (playwright build v1482) downloaded to /root/.cache/ms-playwright/firefox-1482\n",
            "Downloading Webkit 18.4 (playwright build v2158)\u001b[2m from https://cdn.playwright.dev/dbazure/download/playwright/builds/webkit/2158/webkit-ubuntu-22.04.zip\u001b[22m\n",
            "\u001b[1G93.8 MiB [] 0% 0.0s\u001b[0K\u001b[1G93.8 MiB [] 0% 29.7s\u001b[0K\u001b[1G93.8 MiB [] 0% 14.5s\u001b[0K\u001b[1G93.8 MiB [] 0% 9.1s\u001b[0K\u001b[1G93.8 MiB [] 1% 4.8s\u001b[0K\u001b[1G93.8 MiB [] 2% 3.0s\u001b[0K\u001b[1G93.8 MiB [] 4% 2.4s\u001b[0K\u001b[1G93.8 MiB [] 5% 2.0s\u001b[0K\u001b[1G93.8 MiB [] 7% 1.7s\u001b[0K\u001b[1G93.8 MiB [] 8% 1.6s\u001b[0K\u001b[1G93.8 MiB [] 9% 1.7s\u001b[0K\u001b[1G93.8 MiB [] 12% 1.5s\u001b[0K\u001b[1G93.8 MiB [] 14% 1.3s\u001b[0K\u001b[1G93.8 MiB [] 15% 1.2s\u001b[0K\u001b[1G93.8 MiB [] 16% 1.2s\u001b[0K\u001b[1G93.8 MiB [] 17% 1.2s\u001b[0K\u001b[1G93.8 MiB [] 19% 1.2s\u001b[0K\u001b[1G93.8 MiB [] 21% 1.1s\u001b[0K\u001b[1G93.8 MiB [] 23% 1.0s\u001b[0K\u001b[1G93.8 MiB [] 25% 1.0s\u001b[0K\u001b[1G93.8 MiB [] 26% 1.0s\u001b[0K\u001b[1G93.8 MiB [] 28% 0.9s\u001b[0K\u001b[1G93.8 MiB [] 30% 0.9s\u001b[0K\u001b[1G93.8 MiB [] 32% 0.8s\u001b[0K\u001b[1G93.8 MiB [] 34% 0.8s\u001b[0K\u001b[1G93.8 MiB [] 36% 0.8s\u001b[0K\u001b[1G93.8 MiB [] 38% 0.7s\u001b[0K\u001b[1G93.8 MiB [] 39% 0.7s\u001b[0K\u001b[1G93.8 MiB [] 42% 0.7s\u001b[0K\u001b[1G93.8 MiB [] 46% 0.6s\u001b[0K\u001b[1G93.8 MiB [] 48% 0.6s\u001b[0K\u001b[1G93.8 MiB [] 50% 0.6s\u001b[0K\u001b[1G93.8 MiB [] 52% 0.5s\u001b[0K\u001b[1G93.8 MiB [] 54% 0.5s\u001b[0K\u001b[1G93.8 MiB [] 57% 0.5s\u001b[0K\u001b[1G93.8 MiB [] 59% 0.4s\u001b[0K\u001b[1G93.8 MiB [] 61% 0.4s\u001b[0K\u001b[1G93.8 MiB [] 63% 0.4s\u001b[0K\u001b[1G93.8 MiB [] 65% 0.4s\u001b[0K\u001b[1G93.8 MiB [] 66% 0.3s\u001b[0K\u001b[1G93.8 MiB [] 68% 0.3s\u001b[0K\u001b[1G93.8 MiB [] 69% 0.3s\u001b[0K\u001b[1G93.8 MiB [] 71% 0.3s\u001b[0K\u001b[1G93.8 MiB [] 73% 0.3s\u001b[0K\u001b[1G93.8 MiB [] 75% 0.2s\u001b[0K\u001b[1G93.8 MiB [] 77% 0.2s\u001b[0K\u001b[1G93.8 MiB [] 80% 0.2s\u001b[0K\u001b[1G93.8 MiB [] 83% 0.2s\u001b[0K\u001b[1G93.8 MiB [] 85% 0.1s\u001b[0K\u001b[1G93.8 MiB [] 87% 0.1s\u001b[0K\u001b[1G93.8 MiB [] 90% 0.1s\u001b[0K\u001b[1G93.8 MiB [] 93% 0.1s\u001b[0K\u001b[1G93.8 MiB [] 95% 0.0s\u001b[0K\u001b[1G93.8 MiB [] 98% 0.0s\u001b[0K\u001b[1G93.8 MiB [] 100% 0.0s\u001b[0K\n",
            "Webkit 18.4 (playwright build v2158) downloaded to /root/.cache/ms-playwright/webkit-2158\n",
            "Downloading FFMPEG playwright build v1011\u001b[2m from https://cdn.playwright.dev/dbazure/download/playwright/builds/ffmpeg/1011/ffmpeg-linux.zip\u001b[22m\n",
            "\u001b[1G2.3 MiB [] 0% 0.0s\u001b[0K\u001b[1G2.3 MiB [] 2% 0.7s\u001b[0K\u001b[1G2.3 MiB [] 8% 0.4s\u001b[0K\u001b[1G2.3 MiB [] 21% 0.2s\u001b[0K\u001b[1G2.3 MiB [] 51% 0.1s\u001b[0K\u001b[1G2.3 MiB [] 100% 0.0s\u001b[0K\n",
            "FFMPEG playwright build v1011 downloaded to /root/.cache/ms-playwright/ffmpeg-1011\n",
            "Playwright Host validation warning: \n",
            "╔══════════════════════════════════════════════════════╗\n",
            "║ Host system is missing dependencies to run browsers. ║\n",
            "║ Missing libraries:                                   ║\n",
            "║     libwoff2dec.so.1.0.2                             ║\n",
            "║     libgstgl-1.0.so.0                                ║\n",
            "║     libgstcodecparsers-1.0.so.0                      ║\n",
            "║     libavif.so.13                                    ║\n",
            "║     libharfbuzz-icu.so.0                             ║\n",
            "║     libenchant-2.so.2                                ║\n",
            "║     libsecret-1.so.0                                 ║\n",
            "║     libhyphen.so.0                                   ║\n",
            "║     libmanette-0.2.so.0                              ║\n",
            "╚══════════════════════════════════════════════════════╝\n",
            "    at validateDependenciesLinux (/usr/local/lib/python3.11/dist-packages/playwright/driver/package/lib/server/registry/dependencies.js:269:9)\n",
            "\u001b[90m    at process.processTicksAndRejections (node:internal/process/task_queues:105:5)\u001b[39m\n",
            "    at async Registry._validateHostRequirements (/usr/local/lib/python3.11/dist-packages/playwright/driver/package/lib/server/registry/index.js:927:14)\n",
            "    at async Registry._validateHostRequirementsForExecutableIfNeeded (/usr/local/lib/python3.11/dist-packages/playwright/driver/package/lib/server/registry/index.js:1047:7)\n",
            "    at async Registry.validateHostRequirementsForExecutablesIfNeeded (/usr/local/lib/python3.11/dist-packages/playwright/driver/package/lib/server/registry/index.js:1036:7)\n",
            "    at async t.<anonymous> (/usr/local/lib/python3.11/dist-packages/playwright/driver/package/lib/cli/program.js:160:7)\n"
          ]
        }
      ]
    },
    {
      "cell_type": "code",
      "source": [
        "from bs4 import BeautifulSoup\n",
        "import requests\n",
        "import pandas as pd\n",
        "import csv"
      ],
      "metadata": {
        "id": "hdxPkPCSgrBL"
      },
      "execution_count": 2,
      "outputs": []
    },
    {
      "cell_type": "code",
      "source": [
        "import pandas as pd\n",
        "from playwright.async_api import async_playwright\n",
        "import asyncio\n",
        "\n",
        "async def scrape_almeria():\n",
        "    url = \"https://www.booking.com/searchresults.es.html?lang=es&selected_currency=EUR&dest_id=1363&dest_type=region&ac_langcode=es&checkin=2025-05-07&checkout=2025-05-08&nflt=ht_id%3D204&shw_aparth=0\"\n",
        "\n",
        "    async with async_playwright() as p:\n",
        "        browser = await p.chromium.launch(headless=True)\n",
        "        context = await browser.new_context(user_agent=\"Mozilla/5.0 (Windows NT 10.0; Win64; x64) AppleWebKit/537.36 (KHTML, like Gecko) Chrome/120.0.0.0 Safari/537.36\")\n",
        "        page = await context.new_page()\n",
        "        await page.goto(url, timeout=60000)\n",
        "\n",
        "        # Aceptar cookies si aparece\n",
        "        try:\n",
        "            await page.click(\"button:has-text('Aceptar')\", timeout=5000)\n",
        "            print(\"Cookies aceptadas.\")\n",
        "        except:\n",
        "            print(\"No se mostró banner de cookies.\")\n",
        "\n",
        "        # Hacer scroll lento\n",
        "        for _ in range(15):\n",
        "            await page.mouse.wheel(0, 1500)\n",
        "            await page.wait_for_timeout(1000)\n",
        "\n",
        "        # Esperar por los resultados\n",
        "        try:\n",
        "            await page.wait_for_selector('[data-testid=\"property-card\"]', timeout=30000)\n",
        "        except:\n",
        "            print(\"❌ No se encontró ningún hotel. Posible bloqueo o la página está vacía.\")\n",
        "            content = await page.content()\n",
        "            print(\"Fragmento del HTML para diagnóstico:\\n\", content[:2000])\n",
        "            await browser.close()\n",
        "            return\n",
        "\n",
        "        hotels = await page.locator('[data-testid=\"property-card\"]').all()\n",
        "        print(f\"✅ Se encontraron {len(hotels)} hoteles.\")\n",
        "\n",
        "        hotels_data = []\n",
        "\n",
        "        for hotel in hotels:\n",
        "            data = {}\n",
        "            try:\n",
        "                data['Hotel'] = await hotel.locator('[data-testid=\"title\"]').inner_text()\n",
        "            except:\n",
        "                data['Hotel'] = ''\n",
        "            try:\n",
        "                data['Precio'] = await hotel.locator('[data-testid=\"price-and-discounted-price\"]').inner_text()\n",
        "            except:\n",
        "                data['Precio'] = ''\n",
        "            try:\n",
        "                score = await hotel.locator('[data-testid=\"review-score\"] div').all_inner_texts()\n",
        "                data['rating'] = score[0] if len(score) > 0 else ''\n",
        "                data['review_summary'] = score[1] if len(score) > 1 else ''\n",
        "                data['review_count'] = score[2].split()[0] if len(score) > 2 else ''\n",
        "            except:\n",
        "                data['rating'] = ''\n",
        "                data['review_summary'] = ''\n",
        "                data['review_count'] = ''\n",
        "            hotels_data.append(data)\n",
        "\n",
        "        df = pd.DataFrame(hotels_data)\n",
        "        df.to_csv(\"hotels_almeria.csv\", index=False)\n",
        "        print(\"✅ Archivo 'hotels_almeria.csv' guardado con éxito.\")\n",
        "        await browser.close()\n",
        "\n",
        "# Ejecutar en Colab\n",
        "await scrape_almeria()\n",
        "\n"
      ],
      "metadata": {
        "colab": {
          "base_uri": "https://localhost:8080/"
        },
        "id": "ljzFLh8WqhQu",
        "outputId": "6f001eb9-50a8-473b-b393-20817efdc7cc"
      },
      "execution_count": 5,
      "outputs": [
        {
          "output_type": "stream",
          "name": "stdout",
          "text": [
            "No se mostró banner de cookies.\n",
            "✅ Se encontraron 75 hoteles.\n",
            "✅ Archivo 'hotels_almeria.csv' guardado con éxito.\n"
          ]
        }
      ]
    }
  ]
}